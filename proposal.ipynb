{
 "cells": [
  {
   "cell_type": "markdown",
   "id": "2a55ec48-a0a9-4858-afff-99a7e13dff0f",
   "metadata": {},
   "source": [
    "## 2017 ATP Tour Ranking Predictions"
   ]
  },
  {
   "cell_type": "markdown",
   "id": "6a498633-7d1a-4dc7-b60b-b54262af9db8",
   "metadata": {},
   "source": [
    "### Introduction:"
   ]
  },
  {
   "cell_type": "markdown",
   "id": "28e09b9f-dd3d-431b-8d83-40963fafe8bd",
   "metadata": {},
   "source": [
    "The Association of Tennis Professionals (ATP) is an official tennis governing body that holds an annual international tour in which the world’s professional male tennis players are able to showcase their skills and tenacity against various opponents from different countries. Tournaments are held in many countries, and winning a match in these tournaments awards the victors points. Each week, the ATP updates the rankings of these players, adding the number of points gained within the 7-day period to the total points the player has garnered over the season (Association of Tennis Professionals, 2019).\n",
    "\n",
    "As a result of the amount of tournaments held over a single season, shift in rankings is fairly common. The goal of this project is to predict the rankings of these professional tennis players based on a number of variables. The focus of the following data analysis is on the 2017 ATP World Tour (Sackmann, 2017), which comprises of data gathered from tennis tournaments held between the period of January 2017 to November 2017. The data includes the names of winners and losers from every round of national and international tennis tournaments. Multiple statistics are included in this data, which aids us in the prediction of our question: how well do variables relating to player statuses, such as win percentage, first-serve wins, and age predict the ATP ranking of the tennis player in later seasons?"
   ]
  },
  {
   "cell_type": "markdown",
   "id": "45928551-99e3-4bbb-b29a-25506467a55e",
   "metadata": {},
   "source": [
    "### Preliminary exploratory data analysis:"
   ]
  },
  {
   "cell_type": "markdown",
   "id": "a3973e40-e021-443b-8b8d-5db86c0f7e8b",
   "metadata": {},
   "source": [
    "### Methods:"
   ]
  },
  {
   "cell_type": "markdown",
   "id": "a848c057-4673-4b4b-a7b2-a96cd9422439",
   "metadata": {},
   "source": [
    "### Expected outcomes and significance:"
   ]
  },
  {
   "cell_type": "code",
   "execution_count": null,
   "id": "6628214d-1c6d-4763-b375-5259219fb154",
   "metadata": {},
   "outputs": [],
   "source": []
  }
 ],
 "metadata": {
  "kernelspec": {
   "display_name": "Python 3 (ipykernel)",
   "language": "python",
   "name": "python3"
  },
  "language_info": {
   "codemirror_mode": {
    "name": "ipython",
    "version": 3
   },
   "file_extension": ".py",
   "mimetype": "text/x-python",
   "name": "python",
   "nbconvert_exporter": "python",
   "pygments_lexer": "ipython3",
   "version": "3.10.8"
  }
 },
 "nbformat": 4,
 "nbformat_minor": 5
}
