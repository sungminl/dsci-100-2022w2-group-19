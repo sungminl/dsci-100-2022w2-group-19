{
 "cells": [
  {
   "cell_type": "markdown",
   "id": "2a55ec48-a0a9-4858-afff-99a7e13dff0f",
   "metadata": {},
   "source": [
    "### Title"
   ]
  },
  {
   "cell_type": "markdown",
   "id": "6a498633-7d1a-4dc7-b60b-b54262af9db8",
   "metadata": {},
   "source": [
    "Introduction:"
   ]
  },
  {
   "cell_type": "markdown",
   "id": "45928551-99e3-4bbb-b29a-25506467a55e",
   "metadata": {},
   "source": [
    "Preliminary exploratory data analysis:"
   ]
  },
  {
   "cell_type": "markdown",
   "id": "a3973e40-e021-443b-8b8d-5db86c0f7e8b",
   "metadata": {},
   "source": [
    "Methods:"
   ]
  },
  {
   "cell_type": "markdown",
   "id": "a848c057-4673-4b4b-a7b2-a96cd9422439",
   "metadata": {},
   "source": [
    "Expected outcomes and significance:"
   ]
  },
  {
   "cell_type": "code",
   "execution_count": null,
   "id": "6628214d-1c6d-4763-b375-5259219fb154",
   "metadata": {},
   "outputs": [],
   "source": []
  }
 ],
 "metadata": {
  "kernelspec": {
   "display_name": "Python 3 (ipykernel)",
   "language": "python",
   "name": "python3"
  },
  "language_info": {
   "codemirror_mode": {
    "name": "ipython",
    "version": 3
   },
   "file_extension": ".py",
   "mimetype": "text/x-python",
   "name": "python",
   "nbconvert_exporter": "python",
   "pygments_lexer": "ipython3",
   "version": "3.10.8"
  }
 },
 "nbformat": 4,
 "nbformat_minor": 5
}
